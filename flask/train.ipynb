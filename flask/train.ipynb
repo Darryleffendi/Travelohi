{
 "cells": [
  {
   "cell_type": "code",
   "execution_count": 2,
   "metadata": {},
   "outputs": [
    {
     "name": "stdout",
     "output_type": "stream",
     "text": [
      "WARNING:tensorflow:From C:\\Users\\darry\\AppData\\Local\\Packages\\PythonSoftwareFoundation.Python.3.10_qbz5n2kfra8p0\\LocalCache\\local-packages\\Python310\\site-packages\\keras\\src\\losses.py:2976: The name tf.losses.sparse_softmax_cross_entropy is deprecated. Please use tf.compat.v1.losses.sparse_softmax_cross_entropy instead.\n",
      "\n"
     ]
    }
   ],
   "source": [
    "import tensorflow as tf\n",
    "from tensorflow.keras import datasets, layers, models, losses\n",
    "from tensorflow.keras.preprocessing.image import ImageDataGenerator\n",
    "from sklearn.model_selection import train_test_split\n",
    "import os\n",
    "\n",
    "import pandas as pd"
   ]
  },
  {
   "cell_type": "code",
   "execution_count": 9,
   "metadata": {},
   "outputs": [
    {
     "name": "stdout",
     "output_type": "stream",
     "text": [
      "Found 4914 validated image filenames belonging to 7 classes.\n",
      "Found 1231 validated image filenames belonging to 7 classes.\n",
      "7\n"
     ]
    },
    {
     "name": "stderr",
     "output_type": "stream",
     "text": [
      "C:\\Users\\darry\\AppData\\Local\\Packages\\PythonSoftwareFoundation.Python.3.10_qbz5n2kfra8p0\\LocalCache\\local-packages\\Python310\\site-packages\\keras\\src\\preprocessing\\image.py:1137: UserWarning: Found 74 invalid image filename(s) in x_col=\"filename\". These filename(s) will be ignored.\n",
      "  warnings.warn(\n",
      "C:\\Users\\darry\\AppData\\Local\\Packages\\PythonSoftwareFoundation.Python.3.10_qbz5n2kfra8p0\\LocalCache\\local-packages\\Python310\\site-packages\\keras\\src\\preprocessing\\image.py:1137: UserWarning: Found 17 invalid image filename(s) in x_col=\"filename\". These filename(s) will be ignored.\n",
      "  warnings.warn(\n"
     ]
    }
   ],
   "source": [
    "df = pd.read_csv('train/_classes.csv')\n",
    "df.columns = df.columns.str.strip()\n",
    "df.columns = df.columns.str.lower()\n",
    "\n",
    "image_labels = df.columns[1:]\n",
    "\n",
    "df['label'] = df[image_labels].idxmax(axis=1)\n",
    "\n",
    "df = df.drop(columns=['brazil', 'canada', 'finland', 'japan', 'united-kingdom', 'united_states', 'unlabeled'])\n",
    "\n",
    "train_df, val_df = train_test_split(df, test_size=0.2)\n",
    "\n",
    "train_datagen = ImageDataGenerator(rescale=1./255)\n",
    "val_datagen = ImageDataGenerator(rescale=1./255)\n",
    "\n",
    "image_directory = 'train/'\n",
    "\n",
    "train_generator = train_datagen.flow_from_dataframe(\n",
    "    dataframe=train_df,\n",
    "    directory=image_directory,\n",
    "    x_col='filename',\n",
    "    y_col='label',\n",
    "    target_size=(224, 224),\n",
    "    batch_size=64,\n",
    "    class_mode='categorical')\n",
    "\n",
    "val_generator = val_datagen.flow_from_dataframe(\n",
    "    dataframe=val_df,\n",
    "    directory=image_directory,\n",
    "    x_col='filename',\n",
    "    y_col='label',\n",
    "    target_size=(224, 224),\n",
    "    batch_size=64,\n",
    "    class_mode='categorical')\n",
    "\n",
    "N = df['label'].nunique()\n",
    "\n",
    "print(N)"
   ]
  },
  {
   "cell_type": "code",
   "execution_count": 10,
   "metadata": {},
   "outputs": [
    {
     "name": "stdout",
     "output_type": "stream",
     "text": [
      "Model: \"sequential_3\"\n",
      "_________________________________________________________________\n",
      " Layer (type)                Output Shape              Param #   \n",
      "=================================================================\n",
      " resizing_3 (Resizing)       (None, 224, 224, 3)       0         \n",
      "                                                                 \n",
      " conv2d_15 (Conv2D)          (None, 56, 56, 96)        34944     \n",
      "                                                                 \n",
      " batch_normalization_6 (Bat  (None, 56, 56, 96)        384       \n",
      " chNormalization)                                                \n",
      "                                                                 \n",
      " activation_15 (Activation)  (None, 56, 56, 96)        0         \n",
      "                                                                 \n",
      " max_pooling2d_8 (MaxPoolin  (None, 27, 27, 96)        0         \n",
      " g2D)                                                            \n",
      "                                                                 \n",
      " conv2d_16 (Conv2D)          (None, 7, 7, 256)         614656    \n",
      "                                                                 \n",
      " batch_normalization_7 (Bat  (None, 7, 7, 256)         1024      \n",
      " chNormalization)                                                \n",
      "                                                                 \n",
      " activation_16 (Activation)  (None, 7, 7, 256)         0         \n",
      "                                                                 \n",
      " max_pooling2d_9 (MaxPoolin  (None, 3, 3, 256)         0         \n",
      " g2D)                                                            \n",
      "                                                                 \n",
      " conv2d_17 (Conv2D)          (None, 1, 1, 384)         885120    \n",
      "                                                                 \n",
      " activation_17 (Activation)  (None, 1, 1, 384)         0         \n",
      "                                                                 \n",
      " conv2d_18 (Conv2D)          (None, 1, 1, 384)         1327488   \n",
      "                                                                 \n",
      " activation_18 (Activation)  (None, 1, 1, 384)         0         \n",
      "                                                                 \n",
      " conv2d_19 (Conv2D)          (None, 1, 1, 256)         884992    \n",
      "                                                                 \n",
      " activation_19 (Activation)  (None, 1, 1, 256)         0         \n",
      "                                                                 \n",
      " flatten_3 (Flatten)         (None, 256)               0         \n",
      "                                                                 \n",
      " dense_9 (Dense)             (None, 4096)              1052672   \n",
      "                                                                 \n",
      " dropout_5 (Dropout)         (None, 4096)              0         \n",
      "                                                                 \n",
      " dense_10 (Dense)            (None, 4096)              16781312  \n",
      "                                                                 \n",
      " dense_11 (Dense)            (None, 7)                 28679     \n",
      "                                                                 \n",
      "=================================================================\n",
      "Total params: 21611271 (82.44 MB)\n",
      "Trainable params: 21610567 (82.44 MB)\n",
      "Non-trainable params: 704 (2.75 KB)\n",
      "_________________________________________________________________\n",
      "Epoch 1/10\n",
      "77/77 [==============================] - 44s 541ms/step - loss: 1.7901 - accuracy: 0.2125 - val_loss: 1.7319 - val_accuracy: 0.2291\n",
      "Epoch 2/10\n",
      "77/77 [==============================] - 40s 516ms/step - loss: 1.7105 - accuracy: 0.2595 - val_loss: 1.6874 - val_accuracy: 0.2689\n",
      "Epoch 3/10\n",
      "77/77 [==============================] - 40s 520ms/step - loss: 1.6182 - accuracy: 0.3264 - val_loss: 1.9326 - val_accuracy: 0.2518\n",
      "Epoch 4/10\n",
      "77/77 [==============================] - 41s 531ms/step - loss: 1.5277 - accuracy: 0.3521 - val_loss: 1.8878 - val_accuracy: 0.2039\n",
      "Epoch 5/10\n",
      "77/77 [==============================] - 41s 535ms/step - loss: 1.4353 - accuracy: 0.4017 - val_loss: 1.5334 - val_accuracy: 0.3485\n",
      "Epoch 6/10\n",
      "77/77 [==============================] - 42s 549ms/step - loss: 1.3735 - accuracy: 0.4316 - val_loss: 1.5861 - val_accuracy: 0.3729\n",
      "Epoch 7/10\n",
      "77/77 [==============================] - 42s 538ms/step - loss: 1.3338 - accuracy: 0.4628 - val_loss: 2.2208 - val_accuracy: 0.3063\n",
      "Epoch 8/10\n",
      "77/77 [==============================] - 41s 534ms/step - loss: 1.2422 - accuracy: 0.4856 - val_loss: 2.0993 - val_accuracy: 0.3144\n",
      "Epoch 9/10\n",
      "77/77 [==============================] - 41s 531ms/step - loss: 1.2866 - accuracy: 0.4849 - val_loss: 4.3809 - val_accuracy: 0.1657\n",
      "Epoch 10/10\n",
      "77/77 [==============================] - 41s 526ms/step - loss: 1.1558 - accuracy: 0.5346 - val_loss: 1.7123 - val_accuracy: 0.4021\n"
     ]
    },
    {
     "name": "stderr",
     "output_type": "stream",
     "text": [
      "C:\\Users\\darry\\AppData\\Local\\Packages\\PythonSoftwareFoundation.Python.3.10_qbz5n2kfra8p0\\LocalCache\\local-packages\\Python310\\site-packages\\keras\\src\\engine\\training.py:3103: UserWarning: You are saving your model as an HDF5 file via `model.save()`. This file format is considered legacy. We recommend using instead the native Keras format, e.g. `model.save('my_model.keras')`.\n",
      "  saving_api.save_model(\n"
     ]
    }
   ],
   "source": [
    "model = models.Sequential()\n",
    "model.add(layers.experimental.preprocessing.Resizing(224, 224, interpolation=\"bilinear\", input_shape=(224, 224, 3)))\n",
    "model.add(layers.Conv2D(96, 11, strides=4, padding='same'))\n",
    "model.add(layers.BatchNormalization())\n",
    "model.add(layers.Activation('relu'))\n",
    "model.add(layers.MaxPooling2D(3, strides=2))\n",
    "model.add(layers.Conv2D(256, 5, strides=4, padding='same'))\n",
    "model.add(layers.BatchNormalization())\n",
    "model.add(layers.Activation('relu'))\n",
    "model.add(layers.MaxPooling2D(3, strides=2))\n",
    "model.add(layers.Conv2D(384, 3, strides=4, padding='same'))\n",
    "model.add(layers.Activation('relu'))\n",
    "model.add(layers.Conv2D(384, 3, strides=4, padding='same'))\n",
    "model.add(layers.Activation('relu'))\n",
    "model.add(layers.Conv2D(256, 3, strides=4, padding='same'))\n",
    "model.add(layers.Activation('relu'))\n",
    "model.add(layers.Flatten())\n",
    "model.add(layers.Dense(4096, activation='relu'))\n",
    "model.add(layers.Dropout(0.5))\n",
    "model.add(layers.Dense(4096, activation='relu'))\n",
    "model.layers.pop() \n",
    "model.add(layers.Dense(N, activation='softmax')) \n",
    "\n",
    "model.summary()\n",
    "\n",
    "model.compile(optimizer='adam', loss='categorical_crossentropy', metrics=['accuracy'])\n",
    "history = model.fit(train_generator, epochs=10, validation_data=val_generator)\n",
    "\n",
    "model.save('alexnet_model.h5')"
   ]
  }
 ],
 "metadata": {
  "kernelspec": {
   "display_name": "Python 3",
   "language": "python",
   "name": "python3"
  },
  "language_info": {
   "codemirror_mode": {
    "name": "ipython",
    "version": 3
   },
   "file_extension": ".py",
   "mimetype": "text/x-python",
   "name": "python",
   "nbconvert_exporter": "python",
   "pygments_lexer": "ipython3",
   "version": "3.10.11"
  },
  "orig_nbformat": 4,
  "vscode": {
   "interpreter": {
    "hash": "d4db8d3346a84bedbba193e91906fed6b181b9f02133d5746f72f86c09b1aad4"
   }
  }
 },
 "nbformat": 4,
 "nbformat_minor": 2
}
